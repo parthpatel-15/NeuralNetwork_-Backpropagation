{
  "nbformat": 4,
  "nbformat_minor": 0,
  "metadata": {
    "colab": {
      "provenance": [],
      "collapsed_sections": [
        "8yl2kDD_UODM",
        "D7g8HZ3_UYHw",
        "-WMDtyAzl48T",
        "YsazX7S4FPaI"
      ],
      "toc_visible": true
    },
    "kernelspec": {
      "name": "python3",
      "display_name": "Python 3"
    },
    "language_info": {
      "name": "python"
    }
  },
  "cells": [
    {
      "cell_type": "code",
      "execution_count": null,
      "metadata": {
        "id": "fQ9QGFglJgm_"
      },
      "outputs": [],
      "source": [
        "import tensorflow as tf\n",
        "from tensorflow import keras"
      ]
    },
    {
      "cell_type": "code",
      "source": [
        "cifar10 = keras.datasets.cifar10\n",
        "(x_train, y_train), (x_test, y_test) = cifar10.load_data()"
      ],
      "metadata": {
        "colab": {
          "base_uri": "https://localhost:8080/"
        },
        "id": "rNdD07iUJizc",
        "outputId": "a692d97f-6a66-441e-ed4a-8fad83b907bc"
      },
      "execution_count": null,
      "outputs": [
        {
          "output_type": "stream",
          "name": "stdout",
          "text": [
            "Downloading data from https://www.cs.toronto.edu/~kriz/cifar-10-python.tar.gz\n",
            "170498071/170498071 [==============================] - 3s 0us/step\n"
          ]
        }
      ]
    },
    {
      "cell_type": "code",
      "source": [
        "x_train, x_test= x_train / 255.0 ,x_test/255.0\n"
      ],
      "metadata": {
        "id": "Wv5bl_a5Jt3c"
      },
      "execution_count": null,
      "outputs": []
    },
    {
      "cell_type": "code",
      "source": [
        "x_train.shape"
      ],
      "metadata": {
        "colab": {
          "base_uri": "https://localhost:8080/"
        },
        "id": "FtD4JC1oK6EK",
        "outputId": "fdbe04cd-5fd9-42d3-ea4c-eb10f1884f8e"
      },
      "execution_count": null,
      "outputs": [
        {
          "output_type": "execute_result",
          "data": {
            "text/plain": [
              "(50000, 32, 32, 3)"
            ]
          },
          "metadata": {},
          "execution_count": 5
        }
      ]
    },
    {
      "cell_type": "code",
      "source": [
        "x_valid, x_train = x_train[:10000] ,x_train[10000:]\n",
        "y_valid, y_train = y_train[:10000] ,y_train[10000:]\n",
        "\n",
        "print(x_train.shape)\n",
        "print(x_valid.shape)\n",
        "print(y_train.shape)\n",
        "print(y_valid.shape)"
      ],
      "metadata": {
        "colab": {
          "base_uri": "https://localhost:8080/"
        },
        "id": "Tflk-j2yOhY7",
        "outputId": "7a110440-8880-4914-e107-47aebb1a3b69"
      },
      "execution_count": null,
      "outputs": [
        {
          "output_type": "stream",
          "name": "stdout",
          "text": [
            "(40000, 32, 32, 3)\n",
            "(10000, 32, 32, 3)\n",
            "(40000, 1)\n",
            "(10000, 1)\n"
          ]
        }
      ]
    },
    {
      "cell_type": "code",
      "source": [
        "x_test.shape"
      ],
      "metadata": {
        "colab": {
          "base_uri": "https://localhost:8080/"
        },
        "id": "SOMU5E5oK9kR",
        "outputId": "7bc5b43e-bf73-4d8e-a57e-fdd9112e1b97"
      },
      "execution_count": null,
      "outputs": [
        {
          "output_type": "execute_result",
          "data": {
            "text/plain": [
              "(10000, 32, 32, 3)"
            ]
          },
          "metadata": {},
          "execution_count": 33
        }
      ]
    },
    {
      "cell_type": "code",
      "source": [
        "print(y_train[1])"
      ],
      "metadata": {
        "colab": {
          "base_uri": "https://localhost:8080/"
        },
        "id": "JV9Gja2qLDE8",
        "outputId": "5ea64fcb-5506-4cd6-ccb8-90e8b33107d6"
      },
      "execution_count": null,
      "outputs": [
        {
          "output_type": "stream",
          "name": "stdout",
          "text": [
            "[6]\n"
          ]
        }
      ]
    },
    {
      "cell_type": "code",
      "source": [
        "class_names = ['airplane', 'automobile', 'bird', 'cat', 'deer',\n",
        "               'dog', 'frog', 'horse', 'ship', 'truck']"
      ],
      "metadata": {
        "id": "s0fERBMALKGz"
      },
      "execution_count": null,
      "outputs": []
    },
    {
      "cell_type": "code",
      "source": [
        "for i in range(10):\n",
        "  print(y_train[i],\" = \", class_names[int(y_train[i])])"
      ],
      "metadata": {
        "colab": {
          "base_uri": "https://localhost:8080/"
        },
        "id": "0rcHzWV8LWsi",
        "outputId": "0a397634-1152-4278-948f-cb1943199f15"
      },
      "execution_count": null,
      "outputs": [
        {
          "output_type": "stream",
          "name": "stdout",
          "text": [
            "[1]  =  automobile\n",
            "[6]  =  frog\n",
            "[6]  =  frog\n",
            "[8]  =  ship\n",
            "[8]  =  ship\n",
            "[3]  =  cat\n",
            "[4]  =  deer\n",
            "[6]  =  frog\n",
            "[0]  =  airplane\n",
            "[6]  =  frog\n"
          ]
        }
      ]
    },
    {
      "cell_type": "markdown",
      "source": [
        "# **Model : 1**"
      ],
      "metadata": {
        "id": "8yl2kDD_UODM"
      }
    },
    {
      "cell_type": "code",
      "source": [
        "model = keras.models.Sequential()\n",
        "model.add(keras.layers.Flatten(input_shape=[32, 32, 3]))\n",
        "model.add(keras.layers.Dense(400, activation=\"relu\"))\n",
        "model.add(keras.layers.Dense(300, activation=\"relu\"))\n",
        "model.add(keras.layers.Dense(100, activation=\"relu\"))\n",
        "model.add(keras.layers.Dense(10, activation=\"softmax\"))\n",
        "\n",
        "model.compile(loss=\"sparse_categorical_crossentropy\",\n",
        "              optimizer=\"sgd\",\n",
        "              metrics=[\"accuracy\"])\n",
        "\n",
        "history = model.fit(x_train, y_train, epochs=10, validation_data=(x_valid, y_valid))\n"
      ],
      "metadata": {
        "colab": {
          "base_uri": "https://localhost:8080/"
        },
        "id": "ysAjaXwoL8lh",
        "outputId": "734b6b14-a84b-440d-8bda-03910ee27cdd"
      },
      "execution_count": null,
      "outputs": [
        {
          "output_type": "stream",
          "name": "stdout",
          "text": [
            "Epoch 1/10\n",
            "1250/1250 [==============================] - 17s 13ms/step - loss: 1.9115 - accuracy: 0.3141 - val_loss: 1.7530 - val_accuracy: 0.3704\n",
            "Epoch 2/10\n",
            "1250/1250 [==============================] - 16s 13ms/step - loss: 1.7226 - accuracy: 0.3868 - val_loss: 1.6683 - val_accuracy: 0.4007\n",
            "Epoch 3/10\n",
            "1250/1250 [==============================] - 18s 14ms/step - loss: 1.6387 - accuracy: 0.4175 - val_loss: 1.5914 - val_accuracy: 0.4280\n",
            "Epoch 4/10\n",
            "1250/1250 [==============================] - 18s 14ms/step - loss: 1.5771 - accuracy: 0.4385 - val_loss: 1.5643 - val_accuracy: 0.4376\n",
            "Epoch 5/10\n",
            "1250/1250 [==============================] - 16s 13ms/step - loss: 1.5313 - accuracy: 0.4562 - val_loss: 1.5198 - val_accuracy: 0.4537\n",
            "Epoch 6/10\n",
            "1250/1250 [==============================] - 16s 13ms/step - loss: 1.4899 - accuracy: 0.4708 - val_loss: 1.4806 - val_accuracy: 0.4661\n",
            "Epoch 7/10\n",
            "1250/1250 [==============================] - 16s 13ms/step - loss: 1.4537 - accuracy: 0.4823 - val_loss: 1.4857 - val_accuracy: 0.4691\n",
            "Epoch 8/10\n",
            "1250/1250 [==============================] - 16s 13ms/step - loss: 1.4268 - accuracy: 0.4911 - val_loss: 1.4542 - val_accuracy: 0.4817\n",
            "Epoch 9/10\n",
            "1250/1250 [==============================] - 16s 13ms/step - loss: 1.3931 - accuracy: 0.5076 - val_loss: 1.4930 - val_accuracy: 0.4574\n",
            "Epoch 10/10\n",
            "1250/1250 [==============================] - 16s 13ms/step - loss: 1.3672 - accuracy: 0.5150 - val_loss: 1.4021 - val_accuracy: 0.4949\n"
          ]
        }
      ]
    },
    {
      "cell_type": "code",
      "source": [
        "y_pred1 = model.predict(x_test)"
      ],
      "metadata": {
        "colab": {
          "base_uri": "https://localhost:8080/"
        },
        "id": "g-A5RnfdRQXi",
        "outputId": "24ccf321-4299-47ed-94b2-4c631f853eab"
      },
      "execution_count": null,
      "outputs": [
        {
          "output_type": "stream",
          "name": "stdout",
          "text": [
            "313/313 [==============================] - 2s 5ms/step\n"
          ]
        }
      ]
    },
    {
      "cell_type": "code",
      "source": [
        "y_pred1.shape"
      ],
      "metadata": {
        "colab": {
          "base_uri": "https://localhost:8080/"
        },
        "id": "Aa1tXxsOTLyY",
        "outputId": "10c9bd44-17ad-4503-a06e-1696a896859f"
      },
      "execution_count": null,
      "outputs": [
        {
          "output_type": "execute_result",
          "data": {
            "text/plain": [
              "(10000, 10)"
            ]
          },
          "metadata": {},
          "execution_count": 49
        }
      ]
    },
    {
      "cell_type": "code",
      "source": [
        "y_pred1[0,:].argmax()"
      ],
      "metadata": {
        "colab": {
          "base_uri": "https://localhost:8080/"
        },
        "id": "kRsUYzqlTSoD",
        "outputId": "d57c4bfa-9af1-44f2-bc9d-fb1c4b6c9e10"
      },
      "execution_count": null,
      "outputs": [
        {
          "output_type": "execute_result",
          "data": {
            "text/plain": [
              "3"
            ]
          },
          "metadata": {},
          "execution_count": 51
        }
      ]
    },
    {
      "cell_type": "code",
      "source": [
        "print(\"modedl1 ----- compare actual and predicted:\")\n",
        "print(\"  actual \" + \"             \" + \" predicted\")\n",
        "\n",
        "for i in range(20):\n",
        "  print(y_test[i],\" = \", class_names[int(y_test[i])], \"           |\", y_pred1[i,:].argmax(),\" = \", class_names[int(y_pred1[i,:].argmax())]    )"
      ],
      "metadata": {
        "colab": {
          "base_uri": "https://localhost:8080/"
        },
        "id": "4fJlheWMR1Al",
        "outputId": "ff331611-83ca-4807-d4dd-31993d52c080"
      },
      "execution_count": null,
      "outputs": [
        {
          "output_type": "stream",
          "name": "stdout",
          "text": [
            "compare actual and predicted:\n",
            "  actual               predicted\n",
            "[3]  =  cat            | 3  =  cat\n",
            "[8]  =  ship            | 8  =  ship\n",
            "[8]  =  ship            | 0  =  airplane\n",
            "[0]  =  airplane            | 8  =  ship\n",
            "[6]  =  frog            | 4  =  deer\n",
            "[6]  =  frog            | 6  =  frog\n",
            "[1]  =  automobile            | 3  =  cat\n",
            "[6]  =  frog            | 6  =  frog\n",
            "[3]  =  cat            | 3  =  cat\n",
            "[1]  =  automobile            | 1  =  automobile\n",
            "[0]  =  airplane            | 8  =  ship\n",
            "[9]  =  truck            | 9  =  truck\n",
            "[5]  =  dog            | 3  =  cat\n",
            "[7]  =  horse            | 7  =  horse\n",
            "[9]  =  truck            | 1  =  automobile\n",
            "[8]  =  ship            | 8  =  ship\n",
            "[5]  =  dog            | 5  =  dog\n",
            "[7]  =  horse            | 3  =  cat\n",
            "[8]  =  ship            | 8  =  ship\n",
            "[6]  =  frog            | 6  =  frog\n"
          ]
        }
      ]
    },
    {
      "cell_type": "markdown",
      "source": [
        "# **Model :2**"
      ],
      "metadata": {
        "id": "D7g8HZ3_UYHw"
      }
    },
    {
      "cell_type": "code",
      "source": [
        "x_train.shape\n",
        "x_valid.shape"
      ],
      "metadata": {
        "colab": {
          "base_uri": "https://localhost:8080/"
        },
        "id": "tgxTvnipVffJ",
        "outputId": "63a04de0-50fb-4054-8ea0-c82b3db6a199"
      },
      "execution_count": null,
      "outputs": [
        {
          "output_type": "execute_result",
          "data": {
            "text/plain": [
              "(10000, 32, 32, 3)"
            ]
          },
          "metadata": {},
          "execution_count": 59
        }
      ]
    },
    {
      "cell_type": "code",
      "source": [
        "model1 = keras.models.Sequential()\n",
        "model1.add(keras.layers.Flatten(input_shape=[32, 32, 3]))\n",
        "model1.add(keras.layers.Dense(600, activation=\"relu\"))\n",
        "model1.add(keras.layers.Dense(300, activation=\"relu\"))\n",
        "model1.add(keras.layers.Dense(100, activation=\"relu\"))\n",
        "model1.add(keras.layers.Dense(10, activation=\"sigmoid\"))\n",
        "\n",
        "model1.compile(loss=\"sparse_categorical_crossentropy\",\n",
        "              optimizer=tf.keras.optimizers.Adam(learning_rate=0.001,epsilon=1e-07,name='Adam'),\n",
        "              metrics=[\"accuracy\"])\n",
        "\n",
        "history1 = model1.fit(x_train, y_train, epochs=20,batch_size=20, validation_data=(x_valid, y_valid))\n",
        "\n"
      ],
      "metadata": {
        "colab": {
          "base_uri": "https://localhost:8080/"
        },
        "id": "US-sfExvUpYM",
        "outputId": "3f01fa71-e01e-46e8-c35c-a4f2598efe97"
      },
      "execution_count": null,
      "outputs": [
        {
          "output_type": "stream",
          "name": "stdout",
          "text": [
            "Epoch 1/20\n",
            "2000/2000 [==============================] - 35s 17ms/step - loss: 1.9102 - accuracy: 0.3053 - val_loss: 1.7485 - val_accuracy: 0.3734\n",
            "Epoch 2/20\n",
            "2000/2000 [==============================] - 33s 17ms/step - loss: 1.7251 - accuracy: 0.3778 - val_loss: 1.6759 - val_accuracy: 0.3969\n",
            "Epoch 3/20\n",
            "2000/2000 [==============================] - 33s 17ms/step - loss: 1.6440 - accuracy: 0.4081 - val_loss: 1.6097 - val_accuracy: 0.4218\n",
            "Epoch 4/20\n",
            "2000/2000 [==============================] - 33s 17ms/step - loss: 1.5813 - accuracy: 0.4317 - val_loss: 1.5588 - val_accuracy: 0.4352\n",
            "Epoch 5/20\n",
            "2000/2000 [==============================] - 34s 17ms/step - loss: 1.5403 - accuracy: 0.4457 - val_loss: 1.5462 - val_accuracy: 0.4400\n",
            "Epoch 6/20\n",
            "2000/2000 [==============================] - 33s 16ms/step - loss: 1.5121 - accuracy: 0.4554 - val_loss: 1.5215 - val_accuracy: 0.4530\n",
            "Epoch 7/20\n",
            "2000/2000 [==============================] - 33s 17ms/step - loss: 1.4835 - accuracy: 0.4691 - val_loss: 1.5134 - val_accuracy: 0.4635\n",
            "Epoch 8/20\n",
            "2000/2000 [==============================] - 33s 17ms/step - loss: 1.4580 - accuracy: 0.4773 - val_loss: 1.5285 - val_accuracy: 0.4550\n",
            "Epoch 9/20\n",
            "2000/2000 [==============================] - 35s 17ms/step - loss: 1.4358 - accuracy: 0.4853 - val_loss: 1.5103 - val_accuracy: 0.4584\n",
            "Epoch 10/20\n",
            "2000/2000 [==============================] - 34s 17ms/step - loss: 1.4182 - accuracy: 0.4918 - val_loss: 1.4984 - val_accuracy: 0.4692\n",
            "Epoch 11/20\n",
            "2000/2000 [==============================] - 34s 17ms/step - loss: 1.3959 - accuracy: 0.4984 - val_loss: 1.4448 - val_accuracy: 0.4881\n",
            "Epoch 12/20\n",
            "2000/2000 [==============================] - 34s 17ms/step - loss: 1.3802 - accuracy: 0.5043 - val_loss: 1.4752 - val_accuracy: 0.4719\n",
            "Epoch 13/20\n",
            "2000/2000 [==============================] - 35s 18ms/step - loss: 1.3658 - accuracy: 0.5084 - val_loss: 1.5563 - val_accuracy: 0.4502\n",
            "Epoch 14/20\n",
            "2000/2000 [==============================] - 34s 17ms/step - loss: 1.3478 - accuracy: 0.5163 - val_loss: 1.5935 - val_accuracy: 0.4449\n",
            "Epoch 15/20\n",
            "2000/2000 [==============================] - 34s 17ms/step - loss: 1.3343 - accuracy: 0.5205 - val_loss: 1.4776 - val_accuracy: 0.4790\n",
            "Epoch 16/20\n",
            "2000/2000 [==============================] - 34s 17ms/step - loss: 1.3200 - accuracy: 0.5249 - val_loss: 1.5070 - val_accuracy: 0.4736\n",
            "Epoch 17/20\n",
            "2000/2000 [==============================] - 34s 17ms/step - loss: 1.3051 - accuracy: 0.5304 - val_loss: 1.5069 - val_accuracy: 0.4672\n",
            "Epoch 18/20\n",
            "2000/2000 [==============================] - 36s 18ms/step - loss: 1.2938 - accuracy: 0.5341 - val_loss: 1.4840 - val_accuracy: 0.4770\n",
            "Epoch 19/20\n",
            "2000/2000 [==============================] - 37s 18ms/step - loss: 1.2756 - accuracy: 0.5382 - val_loss: 1.5023 - val_accuracy: 0.4781\n",
            "Epoch 20/20\n",
            "2000/2000 [==============================] - 38s 19ms/step - loss: 1.2631 - accuracy: 0.5457 - val_loss: 1.4984 - val_accuracy: 0.4782\n"
          ]
        }
      ]
    },
    {
      "cell_type": "code",
      "source": [
        "y_pred2 = model1.predict(x_test)"
      ],
      "metadata": {
        "colab": {
          "base_uri": "https://localhost:8080/"
        },
        "id": "kbJ7yjLvZrcx",
        "outputId": "18b779ef-b607-4c19-e2b5-cf269d7eb371"
      },
      "execution_count": null,
      "outputs": [
        {
          "output_type": "stream",
          "name": "stdout",
          "text": [
            "313/313 [==============================] - 3s 8ms/step\n"
          ]
        }
      ]
    },
    {
      "cell_type": "code",
      "source": [
        "print(\"modedl1 ----- compare actual and predicted:\")\n",
        "print(\"  actual \" + \"             \" + \" predicted\")\n",
        "\n",
        "for i in range(20):\n",
        "  print(y_test[i],\" = \", class_names[int(y_test[i])], \"           |\", y_pred2[i,:].argmax(),\" = \", class_names[int(y_pred2[i,:].argmax())]    )"
      ],
      "metadata": {
        "colab": {
          "base_uri": "https://localhost:8080/"
        },
        "id": "l9PTrLeZZ9Kq",
        "outputId": "8e03036d-d176-45b6-c25d-018972aae0a3"
      },
      "execution_count": null,
      "outputs": [
        {
          "output_type": "stream",
          "name": "stdout",
          "text": [
            "modedl1 ----- compare actual and predicted:\n",
            "  actual               predicted\n",
            "[3]  =  cat            | 8  =  ship\n",
            "[8]  =  ship            | 8  =  ship\n",
            "[8]  =  ship            | 8  =  ship\n",
            "[0]  =  airplane            | 0  =  airplane\n",
            "[6]  =  frog            | 4  =  deer\n",
            "[6]  =  frog            | 6  =  frog\n",
            "[1]  =  automobile            | 3  =  cat\n",
            "[6]  =  frog            | 6  =  frog\n",
            "[3]  =  cat            | 4  =  deer\n",
            "[1]  =  automobile            | 1  =  automobile\n",
            "[0]  =  airplane            | 0  =  airplane\n",
            "[9]  =  truck            | 9  =  truck\n",
            "[5]  =  dog            | 3  =  cat\n",
            "[7]  =  horse            | 7  =  horse\n",
            "[9]  =  truck            | 9  =  truck\n",
            "[8]  =  ship            | 4  =  deer\n",
            "[5]  =  dog            | 7  =  horse\n",
            "[7]  =  horse            | 7  =  horse\n",
            "[8]  =  ship            | 8  =  ship\n",
            "[6]  =  frog            | 7  =  horse\n"
          ]
        }
      ]
    },
    {
      "cell_type": "markdown",
      "source": [
        "# **Model :3**"
      ],
      "metadata": {
        "id": "-WMDtyAzl48T"
      }
    },
    {
      "cell_type": "code",
      "source": [
        "model2 = keras.models.Sequential()\n",
        "model2.add(keras.layers.Flatten(input_shape=[32, 32, 3]))\n",
        "model2.add(keras.layers.Dense(620, activation=\"selu\"))\n",
        "model2.add(keras.layers.Dense(225, activation=\"selu\"))\n",
        "model2.add(keras.layers.Dense(100, activation=\"selu\"))\n",
        "model2.add(keras.layers.Dense(10, activation=\"sigmoid\"))\n",
        "\n",
        "model2.compile(loss=\"sparse_categorical_crossentropy\",\n",
        "              optimizer=tf.keras.optimizers.SGD(learning_rate=0.01,momentum=0.0,name='SGD'),\n",
        "              metrics=[\"accuracy\"])\n",
        "\n",
        "history1 = model2.fit(x_train, y_train, epochs=25 , batch_size=30, validation_data=(x_valid, y_valid))"
      ],
      "metadata": {
        "colab": {
          "base_uri": "https://localhost:8080/"
        },
        "id": "_SdruzNol7LC",
        "outputId": "cf5889b1-9efb-4cb1-aa49-f3d084697270"
      },
      "execution_count": null,
      "outputs": [
        {
          "output_type": "stream",
          "name": "stdout",
          "text": [
            "Epoch 1/25\n",
            "1334/1334 [==============================] - 25s 19ms/step - loss: 1.9317 - accuracy: 0.3113 - val_loss: 1.8151 - val_accuracy: 0.3402\n",
            "Epoch 2/25\n",
            "1334/1334 [==============================] - 22s 17ms/step - loss: 1.7016 - accuracy: 0.3916 - val_loss: 1.7341 - val_accuracy: 0.3851\n",
            "Epoch 3/25\n",
            "1334/1334 [==============================] - 24s 18ms/step - loss: 1.6171 - accuracy: 0.4243 - val_loss: 1.6066 - val_accuracy: 0.4249\n",
            "Epoch 4/25\n",
            "1334/1334 [==============================] - 24s 18ms/step - loss: 1.5520 - accuracy: 0.4498 - val_loss: 1.6866 - val_accuracy: 0.3792\n",
            "Epoch 5/25\n",
            "1334/1334 [==============================] - 22s 17ms/step - loss: 1.5043 - accuracy: 0.4613 - val_loss: 1.6048 - val_accuracy: 0.4224\n",
            "Epoch 6/25\n",
            "1334/1334 [==============================] - 22s 16ms/step - loss: 1.4657 - accuracy: 0.4781 - val_loss: 1.5621 - val_accuracy: 0.4443\n",
            "Epoch 7/25\n",
            "1334/1334 [==============================] - 22s 16ms/step - loss: 1.4297 - accuracy: 0.4925 - val_loss: 1.6479 - val_accuracy: 0.4102\n",
            "Epoch 8/25\n",
            "1334/1334 [==============================] - 23s 17ms/step - loss: 1.3996 - accuracy: 0.5040 - val_loss: 1.5427 - val_accuracy: 0.4457\n",
            "Epoch 9/25\n",
            "1334/1334 [==============================] - 22s 16ms/step - loss: 1.3728 - accuracy: 0.5109 - val_loss: 1.4683 - val_accuracy: 0.4781\n",
            "Epoch 10/25\n",
            "1334/1334 [==============================] - 22s 16ms/step - loss: 1.3459 - accuracy: 0.5206 - val_loss: 1.5822 - val_accuracy: 0.4477\n",
            "Epoch 11/25\n",
            "1334/1334 [==============================] - 22s 16ms/step - loss: 1.3212 - accuracy: 0.5300 - val_loss: 1.5557 - val_accuracy: 0.4576\n",
            "Epoch 12/25\n",
            "1334/1334 [==============================] - 22s 16ms/step - loss: 1.2979 - accuracy: 0.5386 - val_loss: 1.5017 - val_accuracy: 0.4645\n",
            "Epoch 13/25\n",
            "1334/1334 [==============================] - 22s 16ms/step - loss: 1.2791 - accuracy: 0.5426 - val_loss: 1.5048 - val_accuracy: 0.4733\n",
            "Epoch 14/25\n",
            "1334/1334 [==============================] - 22s 16ms/step - loss: 1.2545 - accuracy: 0.5546 - val_loss: 1.4950 - val_accuracy: 0.4773\n",
            "Epoch 15/25\n",
            "1334/1334 [==============================] - 22s 16ms/step - loss: 1.2336 - accuracy: 0.5610 - val_loss: 1.4170 - val_accuracy: 0.5044\n",
            "Epoch 16/25\n",
            "1334/1334 [==============================] - 23s 17ms/step - loss: 1.2163 - accuracy: 0.5670 - val_loss: 1.4827 - val_accuracy: 0.4796\n",
            "Epoch 17/25\n",
            "1334/1334 [==============================] - 21s 16ms/step - loss: 1.1956 - accuracy: 0.5742 - val_loss: 1.5183 - val_accuracy: 0.4704\n",
            "Epoch 18/25\n",
            "1334/1334 [==============================] - 22s 16ms/step - loss: 1.1809 - accuracy: 0.5825 - val_loss: 1.4585 - val_accuracy: 0.4906\n",
            "Epoch 19/25\n",
            "1334/1334 [==============================] - 22s 16ms/step - loss: 1.1631 - accuracy: 0.5861 - val_loss: 1.5515 - val_accuracy: 0.4712\n",
            "Epoch 20/25\n",
            "1334/1334 [==============================] - 22s 16ms/step - loss: 1.1420 - accuracy: 0.5934 - val_loss: 1.5110 - val_accuracy: 0.4756\n",
            "Epoch 21/25\n",
            "1334/1334 [==============================] - 22s 16ms/step - loss: 1.1265 - accuracy: 0.5981 - val_loss: 1.5354 - val_accuracy: 0.4735\n",
            "Epoch 22/25\n",
            "1334/1334 [==============================] - 22s 16ms/step - loss: 1.1115 - accuracy: 0.6042 - val_loss: 1.4720 - val_accuracy: 0.4976\n",
            "Epoch 23/25\n",
            "1334/1334 [==============================] - 22s 16ms/step - loss: 1.0975 - accuracy: 0.6090 - val_loss: 1.4868 - val_accuracy: 0.4913\n",
            "Epoch 24/25\n",
            "1334/1334 [==============================] - 23s 17ms/step - loss: 1.0790 - accuracy: 0.6145 - val_loss: 1.4759 - val_accuracy: 0.5019\n",
            "Epoch 25/25\n",
            "1334/1334 [==============================] - 21s 16ms/step - loss: 1.0628 - accuracy: 0.6182 - val_loss: 1.4571 - val_accuracy: 0.5065\n"
          ]
        }
      ]
    },
    {
      "cell_type": "code",
      "source": [
        "y_pred3 = model2.predict(x_test)"
      ],
      "metadata": {
        "colab": {
          "base_uri": "https://localhost:8080/"
        },
        "id": "5aNRP5xx00MJ",
        "outputId": "e07e1af9-7817-4a76-dcf2-f16c55a13dd0"
      },
      "execution_count": null,
      "outputs": [
        {
          "output_type": "stream",
          "name": "stdout",
          "text": [
            "313/313 [==============================] - 3s 8ms/step\n"
          ]
        }
      ]
    },
    {
      "cell_type": "code",
      "source": [
        "print(\"modedl3 ----- compare actual and predicted:\")\n",
        "print(\"  actual \" + \"             \" + \" predicted\")\n",
        "\n",
        "for i in range(20):\n",
        "  print(y_test[i],\" = \", class_names[int(y_test[i])], \"           |\", y_pred3[i,:].argmax(),\" = \", class_names[int(y_pred3[i,:].argmax())]    )"
      ],
      "metadata": {
        "colab": {
          "base_uri": "https://localhost:8080/"
        },
        "id": "FwFNYoJI07uz",
        "outputId": "17eb7dc7-33d9-4fa0-b662-03fd37cd188c"
      },
      "execution_count": null,
      "outputs": [
        {
          "output_type": "stream",
          "name": "stdout",
          "text": [
            "modedl2 ----- compare actual and predicted:\n",
            "  actual               predicted\n",
            "[3]  =  cat            | 3  =  cat\n",
            "[8]  =  ship            | 8  =  ship\n",
            "[8]  =  ship            | 8  =  ship\n",
            "[0]  =  airplane            | 8  =  ship\n",
            "[6]  =  frog            | 4  =  deer\n",
            "[6]  =  frog            | 6  =  frog\n",
            "[1]  =  automobile            | 1  =  automobile\n",
            "[6]  =  frog            | 6  =  frog\n",
            "[3]  =  cat            | 4  =  deer\n",
            "[1]  =  automobile            | 1  =  automobile\n",
            "[0]  =  airplane            | 0  =  airplane\n",
            "[9]  =  truck            | 9  =  truck\n",
            "[5]  =  dog            | 6  =  frog\n",
            "[7]  =  horse            | 7  =  horse\n",
            "[9]  =  truck            | 9  =  truck\n",
            "[8]  =  ship            | 8  =  ship\n",
            "[5]  =  dog            | 5  =  dog\n",
            "[7]  =  horse            | 7  =  horse\n",
            "[8]  =  ship            | 8  =  ship\n",
            "[6]  =  frog            | 9  =  truck\n"
          ]
        }
      ]
    },
    {
      "cell_type": "markdown",
      "source": [
        "# **Model :4**"
      ],
      "metadata": {
        "id": "YsazX7S4FPaI"
      }
    },
    {
      "cell_type": "code",
      "source": [
        "model3 = keras.models.Sequential()\n",
        "model3.add(keras.layers.Flatten(input_shape=[32, 32, 3]))\n",
        "model3.add(keras.layers.Dense(620, activation=\"relu\"))\n",
        "model3.add(keras.layers.Dense(324, activation=\"relu\"))\n",
        "model3.add(keras.layers.Dense(144, activation=\"relu\"))\n",
        "model3.add(keras.layers.Dense(10, activation=\"softmax\"))\n",
        "\n",
        "model3.compile(loss=\"sparse_categorical_crossentropy\",\n",
        "              optimizer=tf.keras.optimizers.Nadam(learning_rate=0.001,beta_1=0.9,beta_2=0.999,epsilon=1e-07,name='Nadam'),\n",
        "              metrics=[\"accuracy\"])\n",
        "\n",
        "history1 = model3.fit(x_train, y_train, epochs=20 , batch_size=30, validation_data=(x_valid, y_valid))"
      ],
      "metadata": {
        "colab": {
          "base_uri": "https://localhost:8080/"
        },
        "id": "-8ptAEeHFRAd",
        "outputId": "5ecf861e-e5ce-4fe1-cb35-428141b3a920"
      },
      "execution_count": null,
      "outputs": [
        {
          "output_type": "stream",
          "name": "stdout",
          "text": [
            "Epoch 1/20\n",
            "1334/1334 [==============================] - 51s 38ms/step - loss: 1.8890 - accuracy: 0.3111 - val_loss: 1.7353 - val_accuracy: 0.3719\n",
            "Epoch 2/20\n",
            "1334/1334 [==============================] - 50s 38ms/step - loss: 1.6770 - accuracy: 0.3978 - val_loss: 1.6406 - val_accuracy: 0.4040\n",
            "Epoch 3/20\n",
            "1334/1334 [==============================] - 51s 38ms/step - loss: 1.5802 - accuracy: 0.4336 - val_loss: 1.6044 - val_accuracy: 0.4263\n",
            "Epoch 4/20\n",
            "1334/1334 [==============================] - 50s 37ms/step - loss: 1.5210 - accuracy: 0.4555 - val_loss: 1.5552 - val_accuracy: 0.4347\n",
            "Epoch 5/20\n",
            "1334/1334 [==============================] - 50s 37ms/step - loss: 1.4758 - accuracy: 0.4687 - val_loss: 1.5063 - val_accuracy: 0.4570\n",
            "Epoch 6/20\n",
            "1334/1334 [==============================] - 50s 38ms/step - loss: 1.4422 - accuracy: 0.4821 - val_loss: 1.4970 - val_accuracy: 0.4699\n",
            "Epoch 7/20\n",
            "1334/1334 [==============================] - 51s 38ms/step - loss: 1.4084 - accuracy: 0.4943 - val_loss: 1.4947 - val_accuracy: 0.4652\n",
            "Epoch 8/20\n",
            "1334/1334 [==============================] - 50s 37ms/step - loss: 1.3792 - accuracy: 0.5036 - val_loss: 1.5049 - val_accuracy: 0.4649\n",
            "Epoch 9/20\n",
            "1334/1334 [==============================] - 50s 38ms/step - loss: 1.3538 - accuracy: 0.5106 - val_loss: 1.4660 - val_accuracy: 0.4761\n",
            "Epoch 10/20\n",
            "1334/1334 [==============================] - 51s 38ms/step - loss: 1.3284 - accuracy: 0.5213 - val_loss: 1.5060 - val_accuracy: 0.4653\n",
            "Epoch 11/20\n",
            "1334/1334 [==============================] - 50s 38ms/step - loss: 1.3088 - accuracy: 0.5276 - val_loss: 1.4468 - val_accuracy: 0.4964\n",
            "Epoch 12/20\n",
            "1334/1334 [==============================] - 50s 37ms/step - loss: 1.2816 - accuracy: 0.5375 - val_loss: 1.4700 - val_accuracy: 0.4808\n",
            "Epoch 13/20\n",
            "1334/1334 [==============================] - 50s 38ms/step - loss: 1.2606 - accuracy: 0.5437 - val_loss: 1.4442 - val_accuracy: 0.4980\n",
            "Epoch 14/20\n",
            "1334/1334 [==============================] - 51s 38ms/step - loss: 1.2354 - accuracy: 0.5530 - val_loss: 1.4568 - val_accuracy: 0.4905\n",
            "Epoch 15/20\n",
            "1334/1334 [==============================] - 50s 38ms/step - loss: 1.2156 - accuracy: 0.5624 - val_loss: 1.4751 - val_accuracy: 0.4887\n",
            "Epoch 16/20\n",
            "1334/1334 [==============================] - 50s 37ms/step - loss: 1.1936 - accuracy: 0.5698 - val_loss: 1.4751 - val_accuracy: 0.4935\n",
            "Epoch 17/20\n",
            "1334/1334 [==============================] - 50s 37ms/step - loss: 1.1737 - accuracy: 0.5746 - val_loss: 1.4944 - val_accuracy: 0.4899\n",
            "Epoch 18/20\n",
            "1334/1334 [==============================] - 51s 38ms/step - loss: 1.1495 - accuracy: 0.5846 - val_loss: 1.4887 - val_accuracy: 0.4884\n",
            "Epoch 19/20\n",
            "1334/1334 [==============================] - 51s 38ms/step - loss: 1.1301 - accuracy: 0.5909 - val_loss: 1.5241 - val_accuracy: 0.4936\n",
            "Epoch 20/20\n",
            "1334/1334 [==============================] - 51s 38ms/step - loss: 1.1131 - accuracy: 0.5995 - val_loss: 1.5388 - val_accuracy: 0.4835\n"
          ]
        }
      ]
    },
    {
      "cell_type": "code",
      "source": [
        "y_pred4 = model3.predict(x_test)"
      ],
      "metadata": {
        "colab": {
          "base_uri": "https://localhost:8080/"
        },
        "id": "9waE2EizLb0D",
        "outputId": "a2ff3fc1-f40f-4130-dc1e-70e73e9ed70d"
      },
      "execution_count": null,
      "outputs": [
        {
          "output_type": "stream",
          "name": "stdout",
          "text": [
            "313/313 [==============================] - 2s 7ms/step\n"
          ]
        }
      ]
    },
    {
      "cell_type": "code",
      "source": [
        "print(\"modedl2 ----- compare actual and predicted:\")\n",
        "print(\"  actual \" + \"             \" + \" predicted\")\n",
        "\n",
        "for i in range(20):\n",
        "  print(y_test[i],\" = \", class_names[int(y_test[i])], \"           |\", y_pred4[i,:].argmax(),\" = \", class_names[int(y_pred4[i,:].argmax())]    )"
      ],
      "metadata": {
        "colab": {
          "base_uri": "https://localhost:8080/"
        },
        "id": "JhrtWhIALfFt",
        "outputId": "d654c91a-dce0-4198-d043-03e068f0df91"
      },
      "execution_count": null,
      "outputs": [
        {
          "output_type": "stream",
          "name": "stdout",
          "text": [
            "modedl2 ----- compare actual and predicted:\n",
            "  actual               predicted\n",
            "[3]  =  cat            | 3  =  cat\n",
            "[8]  =  ship            | 8  =  ship\n",
            "[8]  =  ship            | 8  =  ship\n",
            "[0]  =  airplane            | 8  =  ship\n",
            "[6]  =  frog            | 4  =  deer\n",
            "[6]  =  frog            | 3  =  cat\n",
            "[1]  =  automobile            | 5  =  dog\n",
            "[6]  =  frog            | 6  =  frog\n",
            "[3]  =  cat            | 5  =  dog\n",
            "[1]  =  automobile            | 1  =  automobile\n",
            "[0]  =  airplane            | 0  =  airplane\n",
            "[9]  =  truck            | 9  =  truck\n",
            "[5]  =  dog            | 6  =  frog\n",
            "[7]  =  horse            | 0  =  airplane\n",
            "[9]  =  truck            | 1  =  automobile\n",
            "[8]  =  ship            | 8  =  ship\n",
            "[5]  =  dog            | 3  =  cat\n",
            "[7]  =  horse            | 7  =  horse\n",
            "[8]  =  ship            | 8  =  ship\n",
            "[6]  =  frog            | 6  =  frog\n"
          ]
        }
      ]
    }
  ]
}